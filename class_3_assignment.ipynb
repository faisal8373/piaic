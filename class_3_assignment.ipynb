{
 "cells": [
  {
   "cell_type": "markdown",
   "metadata": {},
   "source": [
    "# Assignment 1"
   ]
  },
  {
   "cell_type": "code",
   "execution_count": 1,
   "metadata": {},
   "outputs": [],
   "source": [
    "employees = []"
   ]
  },
  {
   "cell_type": "code",
   "execution_count": 2,
   "metadata": {},
   "outputs": [
    {
     "name": "stdin",
     "output_type": "stream",
     "text": [
      "Please enter the name:  Faisal\n",
      "Please enter the age:  24\n",
      "Please enter the work:  A.I\n",
      "Please enter the skills separated by coma:  Python, Cloud, HTML\n",
      "Please enter the salary:  25000\n",
      "Enter title:  BS\n",
      "Enter major:  Computer Science\n",
      "Enter completion date:  Jun 2019\n",
      "Please enter the name:  Javed\n",
      "Please enter the age:  25\n",
      "Please enter the work:  Data Science\n",
      "Please enter the skills separated by coma:  Data Science, Java\n",
      "Please enter the salary:  30000\n",
      "Enter title:  DS\n",
      "Enter major:  Data Science\n",
      "Enter completion date:  Jun 2018\n",
      "Please enter the name:  Aqib\n",
      "Please enter the age:  26\n",
      "Please enter the work:  Developer\n",
      "Please enter the skills separated by coma:  PHP, Javascript\n",
      "Please enter the salary:  40000\n",
      "Enter title:  Coder\n",
      "Enter major:  Programing\n",
      "Enter completion date:  Jun 2017\n"
     ]
    }
   ],
   "source": [
    "for i in range(3):\n",
    "    name = input('Please enter the name: ')\n",
    "    age = int(input('Please enter the age: '))\n",
    "    work = input('Please enter the work: ')\n",
    "    skills = input('Please enter the skills separated by coma: ')\n",
    "    salary = int(input('Please enter the salary: '))\n",
    "    \n",
    "    title = input('Enter title: ')    \n",
    "    major = input('Enter major: ')\n",
    "    completition_date = input('Enter completion date: ')\n",
    "    employees.append({'name': name, 'age': age, 'work': work, 'skills': skills.split(','),\n",
    "                       'degree': {'title': title, 'major': major, 'completionDate': completition_date},'salary': salary})\n"
   ]
  },
  {
   "cell_type": "code",
   "execution_count": 3,
   "metadata": {},
   "outputs": [
    {
     "name": "stdout",
     "output_type": "stream",
     "text": [
      "[{'name': 'Faisal', 'age': 24, 'work': 'A.I', 'skills': ['Python', ' Cloud', ' HTML'], 'degree': {'title': 'BS', 'major': 'Computer Science', 'completionDate': 'Jun 2019'}, 'salary': 25000}, {'name': 'Javed', 'age': 25, 'work': 'Data Science', 'skills': ['Data Science', ' Java'], 'degree': {'title': 'DS', 'major': 'Data Science', 'completionDate': 'Jun 2018'}, 'salary': 30000}, {'name': 'Aqib', 'age': 26, 'work': 'Developer', 'skills': ['PHP', ' Javascript'], 'degree': {'title': 'Coder', 'major': 'Programing', 'completionDate': 'Jun 2017'}, 'salary': 40000}]\n"
     ]
    }
   ],
   "source": [
    "print(employees)"
   ]
  },
  {
   "cell_type": "markdown",
   "metadata": {},
   "source": [
    "# Assignment 2"
   ]
  },
  {
   "cell_type": "code",
   "execution_count": 8,
   "metadata": {},
   "outputs": [
    {
     "name": "stdin",
     "output_type": "stream",
     "text": [
      "Enter beginning point 5\n",
      "Enter end point 10\n"
     ]
    },
    {
     "name": "stdout",
     "output_type": "stream",
     "text": [
      "1 x 5 = 5\n",
      "2 x 5 = 10\n",
      "3 x 5 = 15\n",
      "4 x 5 = 20\n",
      "5 x 5 = 25\n",
      "6 x 5 = 30\n",
      "7 x 5 = 35\n",
      "8 x 5 = 40\n",
      "9 x 5 = 45\n",
      "10 x 5 = 50\n",
      "\n",
      "1 x 6 = 6\n",
      "2 x 6 = 12\n",
      "3 x 6 = 18\n",
      "4 x 6 = 24\n",
      "5 x 6 = 30\n",
      "6 x 6 = 36\n",
      "7 x 6 = 42\n",
      "8 x 6 = 48\n",
      "9 x 6 = 54\n",
      "10 x 6 = 60\n",
      "\n",
      "1 x 7 = 7\n",
      "2 x 7 = 14\n",
      "3 x 7 = 21\n",
      "4 x 7 = 28\n",
      "5 x 7 = 35\n",
      "6 x 7 = 42\n",
      "7 x 7 = 49\n",
      "8 x 7 = 56\n",
      "9 x 7 = 63\n",
      "10 x 7 = 70\n",
      "\n",
      "1 x 8 = 8\n",
      "2 x 8 = 16\n",
      "3 x 8 = 24\n",
      "4 x 8 = 32\n",
      "5 x 8 = 40\n",
      "6 x 8 = 48\n",
      "7 x 8 = 56\n",
      "8 x 8 = 64\n",
      "9 x 8 = 72\n",
      "10 x 8 = 80\n",
      "\n",
      "1 x 9 = 9\n",
      "2 x 9 = 18\n",
      "3 x 9 = 27\n",
      "4 x 9 = 36\n",
      "5 x 9 = 45\n",
      "6 x 9 = 54\n",
      "7 x 9 = 63\n",
      "8 x 9 = 72\n",
      "9 x 9 = 81\n",
      "10 x 9 = 90\n",
      "\n",
      "1 x 10 = 10\n",
      "2 x 10 = 20\n",
      "3 x 10 = 30\n",
      "4 x 10 = 40\n",
      "5 x 10 = 50\n",
      "6 x 10 = 60\n",
      "7 x 10 = 70\n",
      "8 x 10 = 80\n",
      "9 x 10 = 90\n",
      "10 x 10 = 100\n",
      "\n"
     ]
    }
   ],
   "source": [
    "begin = int(input('Enter beginning point'))\n",
    "end = int(input('Enter end point'))\n",
    "for i in range(begin, end+1):\n",
    "    for j in range(1, 11):\n",
    "        print(j, 'x', i, '=', j*i)\n",
    "    print()"
   ]
  },
  {
   "cell_type": "markdown",
   "metadata": {},
   "source": [
    "## Second output"
   ]
  },
  {
   "cell_type": "code",
   "execution_count": 14,
   "metadata": {},
   "outputs": [
    {
     "name": "stdin",
     "output_type": "stream",
     "text": [
      "Enter beginning point 5\n",
      "Enter end point 10\n"
     ]
    },
    {
     "name": "stdout",
     "output_type": "stream",
     "text": [
      "1 x 5 = 5\t1 x 6 = 6\t1 x 7 = 7\t1 x 8 = 8\t1 x 9 = 9\t1 x 10 = 10\t\n",
      "2 x 5 = 10\t2 x 6 = 12\t2 x 7 = 14\t2 x 8 = 16\t2 x 9 = 18\t2 x 10 = 20\t\n",
      "3 x 5 = 15\t3 x 6 = 18\t3 x 7 = 21\t3 x 8 = 24\t3 x 9 = 27\t3 x 10 = 30\t\n",
      "4 x 5 = 20\t4 x 6 = 24\t4 x 7 = 28\t4 x 8 = 32\t4 x 9 = 36\t4 x 10 = 40\t\n",
      "5 x 5 = 25\t5 x 6 = 30\t5 x 7 = 35\t5 x 8 = 40\t5 x 9 = 45\t5 x 10 = 50\t\n",
      "6 x 5 = 30\t6 x 6 = 36\t6 x 7 = 42\t6 x 8 = 48\t6 x 9 = 54\t6 x 10 = 60\t\n",
      "7 x 5 = 35\t7 x 6 = 42\t7 x 7 = 49\t7 x 8 = 56\t7 x 9 = 63\t7 x 10 = 70\t\n",
      "8 x 5 = 40\t8 x 6 = 48\t8 x 7 = 56\t8 x 8 = 64\t8 x 9 = 72\t8 x 10 = 80\t\n",
      "9 x 5 = 45\t9 x 6 = 54\t9 x 7 = 63\t9 x 8 = 72\t9 x 9 = 81\t9 x 10 = 90\t\n",
      "10 x 5 = 50\t10 x 6 = 60\t10 x 7 = 70\t10 x 8 = 80\t10 x 9 = 90\t10 x 10 = 100\t\n"
     ]
    }
   ],
   "source": [
    "begin = int(input('Enter beginning point'))\n",
    "end = int(input('Enter end point'))\n",
    "\n",
    "for j in range(1, 11):\n",
    "    for i in range(begin, end+1):\n",
    "        print(j, 'x', i, '=', j*i, end='\\t')\n",
    "    print()"
   ]
  },
  {
   "cell_type": "code",
   "execution_count": null,
   "metadata": {},
   "outputs": [],
   "source": []
  }
 ],
 "metadata": {
  "kernelspec": {
   "display_name": "Python 3",
   "language": "python",
   "name": "python3"
  },
  "language_info": {
   "codemirror_mode": {
    "name": "ipython",
    "version": 3
   },
   "file_extension": ".py",
   "mimetype": "text/x-python",
   "name": "python",
   "nbconvert_exporter": "python",
   "pygments_lexer": "ipython3",
   "version": "3.7.4"
  }
 },
 "nbformat": 4,
 "nbformat_minor": 4
}
